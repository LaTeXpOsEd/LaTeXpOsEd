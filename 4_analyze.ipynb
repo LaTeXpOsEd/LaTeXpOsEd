{
 "cells": [
  {
   "cell_type": "code",
   "execution_count": null,
   "id": "bf4b119e",
   "metadata": {},
   "outputs": [],
   "source": [
    "import json\n",
    "import os\n",
    "import re\n",
    "from collections import Counter\n",
    "\n",
    "from tqdm import tqdm\n",
    "import matplotlib.pyplot as plt"
   ]
  },
  {
   "cell_type": "code",
   "execution_count": null,
   "id": "287be5b2",
   "metadata": {},
   "outputs": [],
   "source": [
    "PAPERS_FOLDER = 'data/final'\n",
    "CHARTS_FOLDER = 'data/charts'\n",
    "COMMENTS_JSONL = 'data/paper_comments.jsonl'"
   ]
  },
  {
   "cell_type": "markdown",
   "id": "32f053d7",
   "metadata": {},
   "source": [
    "## Comment statstics"
   ]
  },
  {
   "cell_type": "code",
   "execution_count": null,
   "id": "a0d54df7",
   "metadata": {},
   "outputs": [],
   "source": [
    "# Most common file types\n",
    "file_types = Counter()\n",
    "for filename in tqdm(os.listdir(PAPERS_FOLDER)):\n",
    "    if filename.endswith('.json'):\n",
    "        with open(os.path.join(PAPERS_FOLDER, filename), 'r') as f:\n",
    "            paper = json.load(f)\n",
    "            if not paper:\n",
    "                continue\n",
    "            for file in paper:\n",
    "                ext = os.path.splitext(file)[0].lower()\n",
    "                file_types[ext] += 1\n",
    "                \n",
    "file_types.most_common()"
   ]
  },
  {
   "cell_type": "code",
   "execution_count": null,
   "id": "7577abb8",
   "metadata": {},
   "outputs": [],
   "source": [
    "# Comments statistics\n",
    "papers_with_source = 0\n",
    "papers_with_no_comments = 0\n",
    "papers_with_short_comments = 0\n",
    "\n",
    "with open(COMMENTS_JSONL, 'r') as f:\n",
    "    for line in f:\n",
    "        comment = json.loads(line)\n",
    "        papers_with_source += 1\n",
    "        if not comment['comments']:\n",
    "            papers_with_no_comments += 1\n",
    "        elif len(comment['comments']) < 100:\n",
    "            papers_with_short_comments += 1\n",
    "\n",
    "papers_with_source, papers_with_no_comments, papers_with_short_comments"
   ]
  },
  {
   "cell_type": "code",
   "execution_count": null,
   "id": "51e154cf",
   "metadata": {},
   "outputs": [],
   "source": [
    "x = [\n",
    "    100_000 - 92_303,\n",
    "    92_303 - 86164,\n",
    "    4586,\n",
    "    86164 - 4586\n",
    "]\n",
    "y = [\n",
    "    'No Archive',\n",
    "    'No LaTeX',\n",
    "    'No Comments',\n",
    "    'Remaining'\n",
    "]"
   ]
  },
  {
   "cell_type": "code",
   "execution_count": null,
   "id": "ebdeef4b",
   "metadata": {},
   "outputs": [],
   "source": [
    "colors = [\n",
    "    plt.cm.tab20.colors[6], # red\n",
    "    plt.cm.tab20.colors[2], # orange\n",
    "    plt.cm.tab20.colors[3], # light orange\n",
    "    plt.cm.tab20.colors[4], # green\n",
    "]\n",
    "\n",
    "fig, ax = plt.subplots(figsize=(5, 3))\n",
    "wedges, texts, autotexts = ax.pie(\n",
    "    x,\n",
    "    labels=None,  # moved labels to legend\n",
    "    colors=colors,\n",
    "    autopct=lambda pct: f\"{pct:.1f}%\" if pct >= 3 else \"\",\n",
    "    startangle=90,\n",
    "    counterclock=False,\n",
    "    pctdistance=0.8,\n",
    "    textprops={\"color\": \"#eee\", \"fontsize\": 10}\n",
    ")\n",
    "\n",
    "# Draw center circle to make it a ring\n",
    "centre_circle = plt.Circle((0, 0), 0.45, fc=\"white\")\n",
    "fig.gca().add_artist(centre_circle)\n",
    "\n",
    "# Legend on the right\n",
    "ax.legend(wedges, y, loc=\"center left\", bbox_to_anchor=(1.0, 0.5), frameon=False)\n",
    "\n",
    "# Equal aspect ratio ensures that pie is drawn as a circle\n",
    "ax.axis('equal')\n",
    "\n",
    "plt.tight_layout()\n",
    "plt.savefig(f'{CHARTS_FOLDER}/comment_cleanup.pdf', bbox_inches='tight')\n",
    "plt.show()"
   ]
  },
  {
   "cell_type": "markdown",
   "id": "0b8e61a1",
   "metadata": {},
   "source": [
    "## Top domains"
   ]
  },
  {
   "cell_type": "code",
   "execution_count": null,
   "id": "a27cbea7",
   "metadata": {},
   "outputs": [],
   "source": [
    "# Data\n",
    "domains = [\n",
    "    \"github.com\", \"doi.org\", \"arxiv.org\", \"q.uiver.app\", \"stackexchange.com\",\n",
    "    \"fink-portal.org\", \"huggingface.co\", \"4open.science\", \"orcid.org\", \"docs.google.com\"\n",
    "]\n",
    "percentages = [12.7, 9.1, 8.7, 8.1, 4.0, 3.8, 3.1, 1.9, 1.1, 1.1]\n",
    "\n",
    "# Sort by percentage\n",
    "sorted_data = sorted(zip(percentages, domains), reverse=True)\n",
    "percentages_sorted, domains_sorted = zip(*sorted_data)\n",
    "\n",
    "# Offset for visibility\n",
    "offset = 5.0\n",
    "scaled_values = [p + offset for p in percentages_sorted]\n",
    "\n",
    "# Create figure\n",
    "fig, ax = plt.subplots(figsize=(10, 8))\n",
    "\n",
    "# Gradient colors\n",
    "colors = [plt.cm.Blues(0.95 - 0.6*(i/len(domains_sorted))) for i in range(len(domains_sorted))]\n",
    "\n",
    "# Draw bars (rounded edges)\n",
    "bars = ax.barh(domains_sorted, scaled_values, color=colors, height=0.9)\n",
    "for bar in bars:\n",
    "    bar.set_linewidth(0)\n",
    "    bar.set_edgecolor(\"none\")\n",
    "    bar.set_alpha(0.8)\n",
    "\n",
    "# Add text labels with fancy boxes\n",
    "for bar, value, label in zip(bars, percentages_sorted, domains_sorted):\n",
    "    ax.text(0.3, bar.get_y() + bar.get_height()/2,\n",
    "            f\"{label} ({value:.1f}%)\",\n",
    "            va=\"center\", ha=\"left\", fontsize=14, color=\"white\", fontweight=\"bold\",\n",
    "            bbox=dict(facecolor=\"black\", alpha=0.35, boxstyle=\"round,pad=0.3\"))\n",
    "\n",
    "# Remove y-axis ticks\n",
    "ax.set_yticks([])\n",
    "\n",
    "# X-axis: manual ticks (counts instead of percentage)\n",
    "ax.set_xlim(0, 20)\n",
    "ax.set_xticks([6.5, 13.5, 18])\n",
    "ax.set_xticklabels([\"500\", \"3000\", \"5000\"], fontsize=12, fontweight=\"bold\")\n",
    "\n",
    "# Style grid\n",
    "ax.grid(axis=\"x\", linestyle=\"--\", alpha=0.7, linewidth=1.2)\n",
    "ax.spines[\"top\"].set_visible(False)\n",
    "ax.spines[\"right\"].set_visible(False)\n",
    "ax.spines[\"left\"].set_visible(False)\n",
    "ax.spines[\"bottom\"].set_alpha(0.4)\n",
    "\n",
    "# Layout polish\n",
    "ax.invert_yaxis()\n",
    "\n",
    "#plt.title(\"Top Referenced Domains in LaTeX Comments\", fontsize=18, fontweight=\"bold\", pad=15)\n",
    "plt.tight_layout(rect=[0, 0, 1, 0.95])\n",
    "plt.savefig(f\"{CHARTS_FOLDER}/top_domains.pdf\", format=\"pdf\", dpi=300)\n",
    "plt.show()"
   ]
  },
  {
   "cell_type": "markdown",
   "id": "d6d7adf0",
   "metadata": {},
   "source": [
    "## Search affiliations of papers with cleaned comments"
   ]
  },
  {
   "cell_type": "code",
   "execution_count": null,
   "id": "7da489d9",
   "metadata": {},
   "outputs": [],
   "source": [
    "empty_comment_article_ids = list()\n",
    "\n",
    "with open(COMMENTS_JSONL, 'r') as f:\n",
    "    for line in f:\n",
    "        article = json.loads(line)\n",
    "        if len(article['comments']) == 0:\n",
    "            empty_comment_article_ids.append(article['name'])\n",
    "            \n",
    "len(empty_comment_article_ids), empty_comment_article_ids[:5]"
   ]
  },
  {
   "cell_type": "code",
   "execution_count": null,
   "id": "bed4172a",
   "metadata": {},
   "outputs": [],
   "source": [
    "# Inspect a paper by ID\n",
    "\n",
    "target_file = 'EXAMPLE-ID.json'\n",
    "with open(f'{PAPERS_FOLDER}/{target_file}', 'r') as f:\n",
    "    paper = json.load(f)\n",
    "    \n",
    "for file in paper:\n",
    "    print(f'============================= {file} =============================')\n",
    "    print(paper[file])"
   ]
  },
  {
   "cell_type": "code",
   "execution_count": null,
   "id": "93246874",
   "metadata": {},
   "outputs": [],
   "source": [
    "# Test affiliation search pattern\n",
    "\n",
    "pattern_affiliation = re.compile(r'\\\\(affiliation|affil|IEEEauthorblockA)?.*?\\{(.+?)\\}')\n",
    "\n",
    "tests = [\n",
    "    '\\\\affil[$\\\\dagger$]{Department of Computer Science, ABC University, D Country}\\n\\\\affil[$\\\\dagger$]{Department of Chocolate, Belgium}',\n",
    "    '\\\\affiliation{makako U}',\n",
    "]\n",
    "\n",
    "# All non-overlapping matches with positions\n",
    "for i, t in enumerate(tests, 1):\n",
    "    matches = [(m.group(2)) for m in pattern_affiliation.finditer(t)]\n",
    "    print(i, matches)"
   ]
  },
  {
   "cell_type": "code",
   "execution_count": null,
   "id": "afd6fb82",
   "metadata": {},
   "outputs": [],
   "source": [
    "institutions = []\n",
    "\n",
    "for file_name in empty_comment_article_ids:\n",
    "    with open(FULL_PAPERS_FOLDER + '/' + file_name, 'r') as f:\n",
    "        files = json.load(f)\n",
    "        content = ''\n",
    "        for file in files:\n",
    "            content += files[file] + '\\n'\n",
    "        # Split into lines and collect any line containing a match\n",
    "        lines = content.splitlines()\n",
    "        matched_lines = []\n",
    "        for line in lines:\n",
    "            if '\\\\affil' in line or '\\\\IEEEauthorblockA' in line:\n",
    "                matched_lines.append(line)\n",
    "        institutions.extend(matched_lines)\n",
    "        \n",
    "institutions"
   ]
  },
  {
   "cell_type": "markdown",
   "id": "216b2853",
   "metadata": {},
   "source": [
    "further analysis with manual inspection and LLM prompting..."
   ]
  }
 ],
 "metadata": {
  "language_info": {
   "name": "python"
  }
 },
 "nbformat": 4,
 "nbformat_minor": 5
}
