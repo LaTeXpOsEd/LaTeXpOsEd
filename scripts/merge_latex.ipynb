{
 "cells": [
  {
   "cell_type": "code",
   "execution_count": null,
   "id": "10cb3aa4",
   "metadata": {},
   "outputs": [],
   "source": [
    "import os\n",
    "import json\n",
    "from tqdm import tqdm"
   ]
  },
  {
   "cell_type": "code",
   "execution_count": null,
   "id": "13cb083a",
   "metadata": {},
   "outputs": [],
   "source": [
    "PAPERS_FOLDER = 'data/final'\n",
    "\n",
    "# list all files\n",
    "files = os.listdir(PAPERS_FOLDER)\n",
    "files = [f for f in files if f.endswith('.json')]\n",
    "\n",
    "files.sort()\n",
    "#merge into one jsonl file\n",
    "with open('100k-latex-contents.jsonl', 'w') as outfile:\n",
    "    for fname in tqdm(files, total=len(files), desc=\"Merging files\"):\n",
    "        with open(os.path.join(PAPERS_FOLDER, fname)) as infile:\n",
    "            for line in infile:\n",
    "                paper_content = json.loads(line)\n",
    "                if paper_content is None:\n",
    "                    paper_content = {}\n",
    "                new_content = {\n",
    "                    'id': fname.removesuffix('.json'),\n",
    "                    'files': paper_content\n",
    "                }\n",
    "                outfile.write(json.dumps(new_content) + \"\\n\")\n",
    "len(files)"
   ]
  }
 ],
 "metadata": {
  "language_info": {
   "name": "python"
  }
 },
 "nbformat": 4,
 "nbformat_minor": 5
}
