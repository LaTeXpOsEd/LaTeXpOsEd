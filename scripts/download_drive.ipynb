{
 "cells": [
  {
   "cell_type": "markdown",
   "id": "1bd09c21",
   "metadata": {},
   "source": [
    "# Download files from Google Drive in bulk"
   ]
  },
  {
   "cell_type": "code",
   "execution_count": null,
   "id": "f6ec40f8",
   "metadata": {},
   "outputs": [],
   "source": [
    "%pip install -q requests"
   ]
  },
  {
   "cell_type": "code",
   "execution_count": null,
   "id": "83c7007e",
   "metadata": {},
   "outputs": [],
   "source": [
    "import requests"
   ]
  },
  {
   "cell_type": "code",
   "execution_count": null,
   "id": "1c2dcce2",
   "metadata": {},
   "outputs": [],
   "source": [
    "URL_DUMP = 'data/drive_links.txt'\n",
    "TARGET_FOLDER = './tmp/folders'\n",
    "TARGET_FILES = './tmp/files'"
   ]
  },
  {
   "cell_type": "code",
   "execution_count": null,
   "id": "f9991ef6",
   "metadata": {},
   "outputs": [],
   "source": [
    "# Load URLs\n",
    "with open(URL_DUMP, 'r') as file:\n",
    "    lines = file.readlines()\n",
    "    lines = [line.strip() for line in lines if line.strip()]\n",
    "    \n",
    "lines[:5]"
   ]
  },
  {
   "cell_type": "code",
   "execution_count": null,
   "id": "09c4363c",
   "metadata": {},
   "outputs": [],
   "source": [
    "# Extract access keys and types (file/folder) from URLs\n",
    "\n",
    "def extract_key(url: str) -> tuple[str,str] | None:\n",
    "    url = url.strip()\n",
    "    \n",
    "    url_type = None\n",
    "    if url.startswith('https://drive.google.com/drive/folders/'):\n",
    "        url_type = 'folder'\n",
    "    elif url.startswith('https://drive.google.com/file/d/'):\n",
    "        url_type = 'file'\n",
    "    else:\n",
    "        return None\n",
    "    \n",
    "    # Remove prefixes\n",
    "    url = url.removeprefix('https://drive.google.com/drive/folders/')\n",
    "    url = url.removeprefix('https://drive.google.com/file/d/')\n",
    "    # Remove query\n",
    "    url = url.split('?')[0]\n",
    "    # Remove postifxes\n",
    "    url = url.removesuffix('/view')\n",
    "    url = url.removesuffix('/edit')\n",
    "    return url_type, url\n",
    "\n",
    "keys = [extract_key(line) for line in lines]\n",
    "keys"
   ]
  },
  {
   "cell_type": "code",
   "execution_count": null,
   "id": "a9cd1f4a",
   "metadata": {},
   "outputs": [],
   "source": [
    "def download_file(file_id, file_name):\n",
    "    url = f'https://drive.google.com/uc?export=download&id={file_id}'\n",
    "    session = requests.Session()\n",
    "    response = session.get(url, stream=True)\n",
    "    \n",
    "    # Handle large files confirmation token\n",
    "    for key, value in response.cookies.items():\n",
    "        if key.startswith('download_warning'):\n",
    "            url = url + \"&confirm=\" + value\n",
    "            response = session.get(url, stream=True)\n",
    "            break\n",
    "    \n",
    "    with open(TARGET_FILES + '/' + file_name, 'wb') as f:\n",
    "        for chunk in response.iter_content(32768):\n",
    "            if chunk:\n",
    "                f.write(chunk)\n",
    "    print(f'Downloaded file: {file_name}')\n",
    "\n",
    "def download_folder_zip(folder_id, zip_name):\n",
    "    # Construct the folder download URL that triggers zipped download\n",
    "    url = f'https://drive.google.com/drive/folders/{folder_id}?export=download'\n",
    "    session = requests.Session()\n",
    "    response = session.get(url, stream=True)\n",
    "    \n",
    "    # Check if redirect to confirm download proper zip file (Google may prompt)\n",
    "    if 'Content-Disposition' not in response.headers:\n",
    "        # Try to get the actual download URL by following redirects or parsing\n",
    "        response = session.get(url + '&confirm=t', stream=True)\n",
    "    \n",
    "    # Save the zipped content\n",
    "    with open(TARGET_FOLDER + '/' + zip_name, 'wb') as f:\n",
    "        for chunk in response.iter_content(32768):\n",
    "            if chunk:\n",
    "                f.write(chunk)\n",
    "    print(f'Downloaded folder as zip: {zip_name}')\n",
    "\n",
    "def scrape(tokens):\n",
    "    for url_type, token in tokens:\n",
    "        if url_type == 'file':\n",
    "            file_name = f'{token}.file'\n",
    "            download_file(token, file_name)\n",
    "        elif url_type == 'folder':\n",
    "            zip_name = f'{token}.zip'\n",
    "            download_folder_zip(token, zip_name)\n",
    "        else:\n",
    "            print(f'Unknown type for token: {token}')\n",
    "\n",
    "scrape(keys)"
   ]
  }
 ],
 "metadata": {
  "language_info": {
   "name": "python"
  }
 },
 "nbformat": 4,
 "nbformat_minor": 5
}
