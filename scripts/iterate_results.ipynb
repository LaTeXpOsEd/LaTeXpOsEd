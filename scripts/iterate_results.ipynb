{
 "cells": [
  {
   "cell_type": "markdown",
   "id": "1f4c6609",
   "metadata": {},
   "source": [
    "# LaTeXpOsEd\n",
    "\n",
    "Script to iterate the results from the LLM classification for manual inspection"
   ]
  },
  {
   "cell_type": "code",
   "execution_count": null,
   "id": "6562871b",
   "metadata": {},
   "outputs": [],
   "source": [
    "import json\n",
    "from IPython.display import clear_output"
   ]
  },
  {
   "cell_type": "code",
   "execution_count": null,
   "id": "344b3afb",
   "metadata": {},
   "outputs": [],
   "source": [
    "RESULT_FILE = '../llm_classification.jsonl'"
   ]
  },
  {
   "cell_type": "code",
   "execution_count": null,
   "id": "564f3078",
   "metadata": {},
   "outputs": [],
   "source": [
    "index = 0\n",
    "with open(RESULT_FILE, 'r') as f:\n",
    "    while line := f.readline():\n",
    "        data = json.loads(line)\n",
    "        response = data['xml']\n",
    "        comments = data['comments']\n",
    "        if not 'conflict' in response:\n",
    "            continue\n",
    "        clear_output(wait=False)\n",
    "        print(index, response, '\\n\\n', comments)\n",
    "        input()\n",
    "        index += 1"
   ]
  }
 ],
 "metadata": {
  "language_info": {
   "name": "python"
  }
 },
 "nbformat": 4,
 "nbformat_minor": 5
}
